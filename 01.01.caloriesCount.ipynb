{
 "cells": [
  {
   "cell_type": "code",
   "execution_count": 39,
   "metadata": {},
   "outputs": [
    {
     "name": "stdout",
     "output_type": "stream",
     "text": [
      "75622\n",
      "213159\n"
     ]
    }
   ],
   "source": [
    "with open('food01.txt') as f:\n",
    "    lines = f.readlines()\n",
    "\n",
    "# https://www.geeksforgeeks.org/python-split-list-into-lists-by-particular-value/\n",
    "size = len(lines)\n",
    "idx_lines = [idx + 1 for idx, val in enumerate (lines) if val=='\\n']\n",
    "res = [lines[i:j] for i, j, in zip([0]+idx_lines, idx_lines+([size] if idx_lines[-1] != size else []))]\n",
    "\n",
    "for line in res:\n",
    "    if line[-1] == '\\n':\n",
    "        del line[-1]\n",
    "gnomes = []\n",
    "calories = []\n",
    "for line in res:\n",
    "    line = [int(element) for element in line]\n",
    "    gnomes.append(line)\n",
    "\n",
    "great = -1\n",
    "for gnome in gnomes:\n",
    "    calories.append(sum(gnome))\n",
    "    if sum(gnome) > great:\n",
    "        great = sum(gnome)\n",
    "print(great)\n",
    "print(sum(sorted(calories, reverse=True)[:3]))\n"
   ]
  },
  {
   "cell_type": "code",
   "execution_count": null,
   "metadata": {},
   "outputs": [],
   "source": []
  }
 ],
 "metadata": {
  "kernelspec": {
   "display_name": "Python 3.10.8 64-bit",
   "language": "python",
   "name": "python3"
  },
  "language_info": {
   "codemirror_mode": {
    "name": "ipython",
    "version": 3
   },
   "file_extension": ".py",
   "mimetype": "text/x-python",
   "name": "python",
   "nbconvert_exporter": "python",
   "pygments_lexer": "ipython3",
   "version": "3.10.8"
  },
  "orig_nbformat": 4,
  "vscode": {
   "interpreter": {
    "hash": "aee8b7b246df8f9039afb4144a1f6fd8d2ca17a180786b69acc140d282b71a49"
   }
  }
 },
 "nbformat": 4,
 "nbformat_minor": 2
}
